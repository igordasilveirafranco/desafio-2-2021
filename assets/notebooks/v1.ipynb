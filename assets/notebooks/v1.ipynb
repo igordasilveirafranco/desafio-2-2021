{
 "cells": [
  {
   "cell_type": "markdown",
   "metadata": {},
   "source": [
    "## Passo 1 - Import de modulos"
   ]
  },
  {
   "cell_type": "code",
   "execution_count": 5,
   "metadata": {},
   "outputs": [],
   "source": [
    "import pandas as pd\n",
    "import numpy as np\n",
    "import seaborn as sns\n",
    "import matplotlib.pyplot as plt\n",
    "from sklearn.model_selection import train_test_split\n",
    "from sklearn.model_selection import KFold\n",
    "from sklearn.model_selection import cross_val_score\n",
    "from sklearn.metrics import r2_score\n",
    "from sklearn.linear_model import LinearRegression\n",
    "from sklearn.svm import SVC\n",
    "from scipy.stats import norm"
   ]
  },
  {
   "cell_type": "markdown",
   "metadata": {},
   "source": [
    "## Passo 2 - Carga dos dados"
   ]
  },
  {
   "cell_type": "code",
   "execution_count": 6,
   "metadata": {},
   "outputs": [],
   "source": [
    "# Carregue aqui o dataset\n",
    "entrada = pd.read_json(\"..\\quanam.json\", lines = True)\n",
    "answers = pd.read_csv(\"..\\ANSWERS.csv\")\n"
   ]
  },
  {
   "cell_type": "code",
   "execution_count": 7,
   "metadata": {},
   "outputs": [
    {
     "data": {
      "text/plain": [
       "['ILLUM', 'HUMID', 'CO2', 'SOUND', 'TEMP', 'RYTHM', 'ID']"
      ]
     },
     "execution_count": 7,
     "metadata": {},
     "output_type": "execute_result"
    }
   ],
   "source": [
    "# Invertendo a ordem das colunas\n",
    "cols = entrada.columns.tolist()\n",
    "cols"
   ]
  },
  {
   "cell_type": "code",
   "execution_count": 8,
   "metadata": {},
   "outputs": [
    {
     "data": {
      "text/plain": [
       "['ID', 'ILLUM', 'HUMID', 'CO2', 'SOUND', 'TEMP', 'RYTHM']"
      ]
     },
     "execution_count": 8,
     "metadata": {},
     "output_type": "execute_result"
    }
   ],
   "source": [
    "cols = cols[-1:] + cols[:-1]\n",
    "cols"
   ]
  },
  {
   "cell_type": "code",
   "execution_count": 9,
   "metadata": {},
   "outputs": [
    {
     "data": {
      "text/html": [
       "<div>\n",
       "<style scoped>\n",
       "    .dataframe tbody tr th:only-of-type {\n",
       "        vertical-align: middle;\n",
       "    }\n",
       "\n",
       "    .dataframe tbody tr th {\n",
       "        vertical-align: top;\n",
       "    }\n",
       "\n",
       "    .dataframe thead th {\n",
       "        text-align: right;\n",
       "    }\n",
       "</style>\n",
       "<table border=\"1\" class=\"dataframe\">\n",
       "  <thead>\n",
       "    <tr style=\"text-align: right;\">\n",
       "      <th></th>\n",
       "      <th>ID</th>\n",
       "      <th>ILLUM</th>\n",
       "      <th>HUMID</th>\n",
       "      <th>CO2</th>\n",
       "      <th>SOUND</th>\n",
       "      <th>TEMP</th>\n",
       "      <th>RYTHM</th>\n",
       "    </tr>\n",
       "  </thead>\n",
       "  <tbody>\n",
       "    <tr>\n",
       "      <th>0</th>\n",
       "      <td>1</td>\n",
       "      <td>467.90</td>\n",
       "      <td>65.59</td>\n",
       "      <td>486.10</td>\n",
       "      <td>41.06</td>\n",
       "      <td>23.27</td>\n",
       "      <td>92.39</td>\n",
       "    </tr>\n",
       "    <tr>\n",
       "      <th>1</th>\n",
       "      <td>2</td>\n",
       "      <td>387.14</td>\n",
       "      <td>70.23</td>\n",
       "      <td>501.81</td>\n",
       "      <td>25.93</td>\n",
       "      <td>18.77</td>\n",
       "      <td>85.17</td>\n",
       "    </tr>\n",
       "    <tr>\n",
       "      <th>2</th>\n",
       "      <td>3</td>\n",
       "      <td>339.75</td>\n",
       "      <td>74.72</td>\n",
       "      <td>535.88</td>\n",
       "      <td>30.50</td>\n",
       "      <td>19.41</td>\n",
       "      <td>80.76</td>\n",
       "    </tr>\n",
       "    <tr>\n",
       "      <th>3</th>\n",
       "      <td>4</td>\n",
       "      <td>390.19</td>\n",
       "      <td>63.83</td>\n",
       "      <td>422.76</td>\n",
       "      <td>24.18</td>\n",
       "      <td>17.41</td>\n",
       "      <td>63.55</td>\n",
       "    </tr>\n",
       "    <tr>\n",
       "      <th>4</th>\n",
       "      <td>5</td>\n",
       "      <td>454.11</td>\n",
       "      <td>70.64</td>\n",
       "      <td>619.85</td>\n",
       "      <td>16.50</td>\n",
       "      <td>20.31</td>\n",
       "      <td>83.19</td>\n",
       "    </tr>\n",
       "    <tr>\n",
       "      <th>...</th>\n",
       "      <td>...</td>\n",
       "      <td>...</td>\n",
       "      <td>...</td>\n",
       "      <td>...</td>\n",
       "      <td>...</td>\n",
       "      <td>...</td>\n",
       "      <td>...</td>\n",
       "    </tr>\n",
       "    <tr>\n",
       "      <th>3195</th>\n",
       "      <td>3196</td>\n",
       "      <td>549.06</td>\n",
       "      <td>67.97</td>\n",
       "      <td>553.70</td>\n",
       "      <td>27.40</td>\n",
       "      <td>16.49</td>\n",
       "      <td>76.93</td>\n",
       "    </tr>\n",
       "    <tr>\n",
       "      <th>3196</th>\n",
       "      <td>3197</td>\n",
       "      <td>408.51</td>\n",
       "      <td>63.25</td>\n",
       "      <td>516.07</td>\n",
       "      <td>28.51</td>\n",
       "      <td>20.22</td>\n",
       "      <td>84.96</td>\n",
       "    </tr>\n",
       "    <tr>\n",
       "      <th>3197</th>\n",
       "      <td>3198</td>\n",
       "      <td>459.01</td>\n",
       "      <td>56.65</td>\n",
       "      <td>453.37</td>\n",
       "      <td>25.81</td>\n",
       "      <td>19.04</td>\n",
       "      <td>83.65</td>\n",
       "    </tr>\n",
       "    <tr>\n",
       "      <th>3198</th>\n",
       "      <td>3199</td>\n",
       "      <td>545.56</td>\n",
       "      <td>68.65</td>\n",
       "      <td>487.74</td>\n",
       "      <td>26.41</td>\n",
       "      <td>21.87</td>\n",
       "      <td>84.38</td>\n",
       "    </tr>\n",
       "    <tr>\n",
       "      <th>3199</th>\n",
       "      <td>3200</td>\n",
       "      <td>376.28</td>\n",
       "      <td>69.58</td>\n",
       "      <td>487.71</td>\n",
       "      <td>30.38</td>\n",
       "      <td>18.83</td>\n",
       "      <td>76.43</td>\n",
       "    </tr>\n",
       "  </tbody>\n",
       "</table>\n",
       "<p>3200 rows × 7 columns</p>\n",
       "</div>"
      ],
      "text/plain": [
       "        ID   ILLUM  HUMID     CO2  SOUND   TEMP  RYTHM\n",
       "0        1  467.90  65.59  486.10  41.06  23.27  92.39\n",
       "1        2  387.14  70.23  501.81  25.93  18.77  85.17\n",
       "2        3  339.75  74.72  535.88  30.50  19.41  80.76\n",
       "3        4  390.19  63.83  422.76  24.18  17.41  63.55\n",
       "4        5  454.11  70.64  619.85  16.50  20.31  83.19\n",
       "...    ...     ...    ...     ...    ...    ...    ...\n",
       "3195  3196  549.06  67.97  553.70  27.40  16.49  76.93\n",
       "3196  3197  408.51  63.25  516.07  28.51  20.22  84.96\n",
       "3197  3198  459.01  56.65  453.37  25.81  19.04  83.65\n",
       "3198  3199  545.56  68.65  487.74  26.41  21.87  84.38\n",
       "3199  3200  376.28  69.58  487.71  30.38  18.83  76.43\n",
       "\n",
       "[3200 rows x 7 columns]"
      ]
     },
     "execution_count": 9,
     "metadata": {},
     "output_type": "execute_result"
    }
   ],
   "source": [
    "entrada = entrada[cols]\n",
    "entrada"
   ]
  },
  {
   "cell_type": "code",
   "execution_count": 12,
   "metadata": {},
   "outputs": [],
   "source": [
    "# transforma json em csv\n",
    "# entrada.to_csv('..\\quanam.csv', index=False)"
   ]
  },
  {
   "cell_type": "markdown",
   "metadata": {},
   "source": [
    "## Passo 3 - Analise e exploracao de Dados"
   ]
  },
  {
   "cell_type": "code",
   "execution_count": 10,
   "metadata": {},
   "outputs": [],
   "source": [
    "dataset = entrada"
   ]
  },
  {
   "cell_type": "code",
   "execution_count": 11,
   "metadata": {},
   "outputs": [
    {
     "name": "stdout",
     "output_type": "stream",
     "text": [
      "(3200, 7)\n",
      "<class 'pandas.core.frame.DataFrame'>\n",
      "RangeIndex: 3200 entries, 0 to 3199\n",
      "Data columns (total 7 columns):\n",
      " #   Column  Non-Null Count  Dtype  \n",
      "---  ------  --------------  -----  \n",
      " 0   ID      3200 non-null   int64  \n",
      " 1   ILLUM   3200 non-null   float64\n",
      " 2   HUMID   3200 non-null   float64\n",
      " 3   CO2     3200 non-null   float64\n",
      " 4   SOUND   3200 non-null   float64\n",
      " 5   TEMP    3200 non-null   float64\n",
      " 6   RYTHM   3200 non-null   float64\n",
      "dtypes: float64(6), int64(1)\n",
      "memory usage: 175.1 KB\n",
      "None\n",
      "                ID        ILLUM        HUMID          CO2        SOUND  \\\n",
      "count  3200.000000  3200.000000  3200.000000  3200.000000  3200.000000   \n",
      "mean   1600.500000   439.163412    67.086106   501.620666    29.840194   \n",
      "std     923.904757    89.915142     4.776214    42.951183     6.158710   \n",
      "min       1.000000   145.480000    51.860000   352.820000     8.060000   \n",
      "25%     800.750000   377.060000    63.770000   471.427500    25.550000   \n",
      "50%    1600.500000   437.375000    66.935000   502.350000    29.885000   \n",
      "75%    2400.250000   500.792500    70.330000   530.142500    33.932500   \n",
      "max    3200.000000   775.140000    83.900000   672.380000    53.780000   \n",
      "\n",
      "              TEMP        RYTHM  \n",
      "count  3200.000000  3200.000000  \n",
      "mean     20.042578    80.156616  \n",
      "std       1.648479     6.755854  \n",
      "min      14.760000    55.370000  \n",
      "25%      18.920000    75.657500  \n",
      "50%      20.050000    80.220000  \n",
      "75%      21.180000    84.660000  \n",
      "max      26.290000   108.900000  \n",
      "   ID   ILLUM  HUMID     CO2  SOUND   TEMP  RYTHM\n",
      "0   1  467.90  65.59  486.10  41.06  23.27  92.39\n",
      "1   2  387.14  70.23  501.81  25.93  18.77  85.17\n",
      "2   3  339.75  74.72  535.88  30.50  19.41  80.76\n",
      "3   4  390.19  63.83  422.76  24.18  17.41  63.55\n",
      "4   5  454.11  70.64  619.85  16.50  20.31  83.19\n"
     ]
    }
   ],
   "source": [
    "print(dataset.shape)\n",
    "print(dataset.info())\n",
    "print(dataset.describe())\n",
    "print(dataset.head())"
   ]
  },
  {
   "cell_type": "code",
   "execution_count": 12,
   "metadata": {},
   "outputs": [
    {
     "data": {
      "text/plain": [
       "ID       0\n",
       "ILLUM    0\n",
       "HUMID    0\n",
       "CO2      0\n",
       "SOUND    0\n",
       "TEMP     0\n",
       "RYTHM    0\n",
       "dtype: int64"
      ]
     },
     "execution_count": 12,
     "metadata": {},
     "output_type": "execute_result"
    }
   ],
   "source": [
    "dataset.isnull().sum()"
   ]
  },
  {
   "cell_type": "code",
   "execution_count": 16,
   "metadata": {},
   "outputs": [
    {
     "data": {
      "text/plain": [
       "<AxesSubplot:>"
      ]
     },
     "execution_count": 16,
     "metadata": {},
     "output_type": "execute_result"
    },
    {
     "data": {
      "image/png": "[encoded data removed]",
      "text/plain": [
       "<Figure size 432x288 with 1 Axes>"
      ]
     },
     "metadata": {
      "needs_background": "light"
     },
     "output_type": "display_data"
    }
   ],
   "source": [
    "sns.heatmap(entrada.isnull(),yticklabels=False,cbar=False)"
   ]
  },
  {
   "cell_type": "code",
   "execution_count": 13,
   "metadata": {},
   "outputs": [],
   "source": [
    "X = dataset.drop(['RYTHM'], axis=1)\n",
    "y = dataset['RYTHM'].ravel()"
   ]
  },
  {
   "cell_type": "code",
   "execution_count": null,
   "metadata": {},
   "outputs": [],
   "source": [
    "# Scatter Plot\n",
    "area = np.pi*3\n",
    "colors = (0,0,0)\n",
    "plt.scatter(dataset.RYTHM, dataset.CO2, s=area, c=colors, alpha=0.5)\n",
    "plt.title('Scatter plot pythonspot.com')\n",
    "plt.xlabel('x')\n",
    "plt.ylabel('y')\n",
    "plt.show()"
   ]
  },
  {
   "cell_type": "code",
   "execution_count": null,
   "metadata": {},
   "outputs": [],
   "source": [
    "# Plot\n",
    "plt.rcParams.update({'figure.figsize':(10,8), 'figure.dpi':100})\n",
    "plt.scatter(dataset.RYTHM, dataset.ID, label=f'ID Correlation = {np.round(np.corrcoef(dataset.RYTHM, dataset.ID)[0,1], 2)}')\n",
    "plt.scatter(dataset.RYTHM, dataset.SOUND, label=f'SOUND Correlation = {np.round(np.corrcoef(dataset.RYTHM, dataset.SOUND)[0,1], 2)}')\n",
    "plt.scatter(dataset.RYTHM, dataset.HUMID, label=f'HUMID Correlation = {np.round(np.corrcoef(dataset.RYTHM, dataset.HUMID)[0,1], 2)}')\n",
    "plt.scatter(dataset.RYTHM, dataset.TEMP, label=f'TEMP Correlation = {np.round(np.corrcoef(dataset.RYTHM, dataset.TEMP)[0,1], 2)}')\n",
    "plt.scatter(dataset.RYTHM, dataset.CO2, label=f'CO2 Correlation = {np.round(np.corrcoef(dataset.RYTHM, dataset.CO2)[0,1], 2)}')\n",
    "plt.scatter(dataset.RYTHM, dataset.ILLUM, label=f'ILLUM Correlation = {np.round(np.corrcoef(dataset.RYTHM, dataset.ILLUM)[0,1], 2)}')\n",
    "\n",
    "# Plot\n",
    "plt.title('Scatterplot and Correlations')\n",
    "plt.legend()\n",
    "plt.show()"
   ]
  },
  {
   "cell_type": "markdown",
   "metadata": {},
   "source": [
    "## Passo 4 - Pre processamento"
   ]
  },
  {
   "cell_type": "code",
   "execution_count": 38,
   "metadata": {},
   "outputs": [],
   "source": [
    "X = dataset.drop(['RYTHM','ID'], axis=1)\n",
    "y = dataset['RYTHM'].ravel()\n",
    "test_size = 0.30\n",
    "seed = 7\n",
    "X_train, X_test, y_train, y_test = train_test_split(X, y, test_size=test_size, random_state=seed)"
   ]
  },
  {
   "cell_type": "markdown",
   "metadata": {},
   "source": [
    "## Passo 5 - Modelos de Regressão"
   ]
  },
  {
   "cell_type": "code",
   "execution_count": 27,
   "metadata": {},
   "outputs": [
    {
     "data": {
      "text/plain": [
       "LinearRegression()"
      ]
     },
     "execution_count": 27,
     "metadata": {},
     "output_type": "execute_result"
    }
   ],
   "source": [
    "lr = LinearRegression()\n",
    "lr.fit(X_train, y_train)"
   ]
  },
  {
   "cell_type": "code",
   "execution_count": 28,
   "metadata": {},
   "outputs": [
    {
     "data": {
      "text/plain": [
       "(960,)"
      ]
     },
     "execution_count": 28,
     "metadata": {},
     "output_type": "execute_result"
    }
   ],
   "source": [
    "y_test.shape"
   ]
  },
  {
   "cell_type": "code",
   "execution_count": 29,
   "metadata": {},
   "outputs": [
    {
     "name": "stdout",
     "output_type": "stream",
     "text": [
      "Coefficientes:\n"
     ]
    },
    {
     "data": {
      "text/plain": [
       "[('ILLUM', 0.00953523530815628),\n",
       " ('HUMID', 0.032365881283270004),\n",
       " ('CO2', 0.050752830180973124),\n",
       " ('SOUND', 0.22518654102565758),\n",
       " ('TEMP', 1.117079031503732)]"
      ]
     },
     "execution_count": 29,
     "metadata": {},
     "output_type": "execute_result"
    }
   ],
   "source": [
    "# Lista as variaveis de coeficiente da equacao, ou seja a1xILLUM + a2xHUMID + a3xCO2 ... + b\n",
    "print(\"Coefficientes:\")\n",
    "list(zip(X, lr.coef_))"
   ]
  },
  {
   "cell_type": "code",
   "execution_count": 30,
   "metadata": {},
   "outputs": [
    {
     "data": {
      "text/plain": [
       "19.16428743712669"
      ]
     },
     "execution_count": 30,
     "metadata": {},
     "output_type": "execute_result"
    }
   ],
   "source": [
    "# É o valor de b na formula acima\n",
    "lr.intercept_"
   ]
  },
  {
   "cell_type": "code",
   "execution_count": 31,
   "metadata": {},
   "outputs": [],
   "source": [
    "X_test1 = X_test[['ILLUM', 'HUMID', 'CO2', 'SOUND', 'TEMP']]\n",
    "y_pred = lr.predict(X_test1)"
   ]
  },
  {
   "cell_type": "code",
   "execution_count": 32,
   "metadata": {},
   "outputs": [
    {
     "data": {
      "text/html": [
       "<div>\n",
       "<style scoped>\n",
       "    .dataframe tbody tr th:only-of-type {\n",
       "        vertical-align: middle;\n",
       "    }\n",
       "\n",
       "    .dataframe tbody tr th {\n",
       "        vertical-align: top;\n",
       "    }\n",
       "\n",
       "    .dataframe thead th {\n",
       "        text-align: right;\n",
       "    }\n",
       "</style>\n",
       "<table border=\"1\" class=\"dataframe\">\n",
       "  <thead>\n",
       "    <tr style=\"text-align: right;\">\n",
       "      <th></th>\n",
       "      <th>Actual value</th>\n",
       "      <th>Predicted value</th>\n",
       "    </tr>\n",
       "  </thead>\n",
       "  <tbody>\n",
       "    <tr>\n",
       "      <th>0</th>\n",
       "      <td>76.27</td>\n",
       "      <td>78.050431</td>\n",
       "    </tr>\n",
       "    <tr>\n",
       "      <th>1</th>\n",
       "      <td>90.38</td>\n",
       "      <td>82.793538</td>\n",
       "    </tr>\n",
       "    <tr>\n",
       "      <th>2</th>\n",
       "      <td>82.25</td>\n",
       "      <td>78.472483</td>\n",
       "    </tr>\n",
       "    <tr>\n",
       "      <th>3</th>\n",
       "      <td>84.13</td>\n",
       "      <td>77.547214</td>\n",
       "    </tr>\n",
       "    <tr>\n",
       "      <th>4</th>\n",
       "      <td>72.76</td>\n",
       "      <td>78.848722</td>\n",
       "    </tr>\n",
       "  </tbody>\n",
       "</table>\n",
       "</div>"
      ],
      "text/plain": [
       "   Actual value  Predicted value\n",
       "0         76.27        78.050431\n",
       "1         90.38        82.793538\n",
       "2         82.25        78.472483\n",
       "3         84.13        77.547214\n",
       "4         72.76        78.848722"
      ]
     },
     "execution_count": 32,
     "metadata": {},
     "output_type": "execute_result"
    }
   ],
   "source": [
    "mlr_diff = pd.DataFrame({'Actual value': y_test, 'Predicted value': y_pred})\n",
    "mlr_diff.head()"
   ]
  },
  {
   "cell_type": "code",
   "execution_count": 44,
   "metadata": {},
   "outputs": [
    {
     "name": "stdout",
     "output_type": "stream",
     "text": [
      "R squared: 19.80\n",
      "Mean Absolute Error: 4.841494479809561\n",
      "Mean Square Error: 36.55023617562957\n",
      "Root Mean Square Error: 6.045679132705405\n"
     ]
    }
   ],
   "source": [
    "#Model Evaluation\n",
    "from sklearn import metrics\n",
    "meanAbErr = metrics.mean_absolute_error(y_test, y_pred)\n",
    "meanSqErr = metrics.mean_squared_error(y_test, y_pred)\n",
    "rootMeanSqErr = np.sqrt(metrics.mean_squared_error(y_test, y_pred))\n",
    "print('R squared: {:.2f}'.format(lr.score(X, y)*100))\n",
    "print('Mean Absolute Error:', meanAbErr)\n",
    "print('Mean Square Error:', meanSqErr)\n",
    "print('Root Mean Square Error:', rootMeanSqErr)"
   ]
  },
  {
   "cell_type": "code",
   "execution_count": 39,
   "metadata": {},
   "outputs": [
    {
     "name": "stdout",
     "output_type": "stream",
     "text": [
      "                                 OLS Regression Results                                \n",
      "=======================================================================================\n",
      "Dep. Variable:                      y   R-squared (uncentered):                   0.994\n",
      "Model:                            OLS   Adj. R-squared (uncentered):              0.994\n",
      "Method:                 Least Squares   F-statistic:                          1.108e+05\n",
      "Date:                Thu, 25 Nov 2021   Prob (F-statistic):                        0.00\n",
      "Time:                        17:16:37   Log-Likelihood:                         -10323.\n",
      "No. Observations:                3200   AIC:                                  2.066e+04\n",
      "Df Residuals:                    3195   BIC:                                  2.069e+04\n",
      "Df Model:                           5                                                  \n",
      "Covariance Type:            nonrobust                                                  \n",
      "==============================================================================\n",
      "                 coef    std err          t      P>|t|      [0.025      0.975]\n",
      "------------------------------------------------------------------------------\n",
      "ILLUM          0.0112      0.001      9.458      0.000       0.009       0.013\n",
      "HUMID          0.1253      0.019      6.599      0.000       0.088       0.162\n",
      "CO2            0.0577      0.002     24.550      0.000       0.053       0.062\n",
      "SOUND          0.2663      0.017     15.808      0.000       0.233       0.299\n",
      "TEMP           1.4923      0.052     28.892      0.000       1.391       1.594\n",
      "==============================================================================\n",
      "Omnibus:                        1.579   Durbin-Watson:                   2.021\n",
      "Prob(Omnibus):                  0.454   Jarque-Bera (JB):                1.508\n",
      "Skew:                           0.043   Prob(JB):                        0.471\n",
      "Kurtosis:                       3.062   Cond. No.                         328.\n",
      "==============================================================================\n",
      "\n",
      "Notes:\n",
      "[1] R² is computed without centering (uncentered) since the model does not contain a constant.\n",
      "[2] Standard Errors assume that the covariance matrix of the errors is correctly specified.\n"
     ]
    }
   ],
   "source": [
    "import statsmodels.api as sm\n",
    "modelo = sm.OLS(y, X)\n",
    "res = modelo.fit()\n",
    "print(res.summary())"
   ]
  },
  {
   "cell_type": "code",
   "execution_count": 46,
   "metadata": {},
   "outputs": [
    {
     "name": "stdout",
     "output_type": "stream",
     "text": [
      "                            OLS Regression Results                            \n",
      "==============================================================================\n",
      "Dep. Variable:                      y   R-squared:                       0.199\n",
      "Model:                            OLS   Adj. R-squared:                  0.198\n",
      "Method:                 Least Squares   F-statistic:                     158.5\n",
      "Date:                Thu, 25 Nov 2021   Prob (F-statistic):          7.44e-151\n",
      "Time:                        17:24:42   Log-Likelihood:                -10299.\n",
      "No. Observations:                3200   AIC:                         2.061e+04\n",
      "Df Residuals:                    3194   BIC:                         2.065e+04\n",
      "Df Model:                           5                                         \n",
      "Covariance Type:            nonrobust                                         \n",
      "==============================================================================\n",
      "                 coef    std err          t      P>|t|      [0.025      0.975]\n",
      "------------------------------------------------------------------------------\n",
      "ILLUM          0.7950      0.110      7.255      0.000       0.580       1.010\n",
      "HUMID          0.0987      0.115      0.857      0.391      -0.127       0.324\n",
      "CO2            2.1549      0.111     19.490      0.000       1.938       2.372\n",
      "SOUND          1.3308      0.112     11.869      0.000       1.111       1.551\n",
      "TEMP           1.9749      0.109     18.038      0.000       1.760       2.190\n",
      "intercept     80.1566      0.107    749.264      0.000      79.947      80.366\n",
      "==============================================================================\n",
      "Omnibus:                        1.299   Durbin-Watson:                   2.025\n",
      "Prob(Omnibus):                  0.522   Jarque-Bera (JB):                1.229\n",
      "Skew:                           0.036   Prob(JB):                        0.541\n",
      "Kurtosis:                       3.064   Cond. No.                         1.49\n",
      "==============================================================================\n",
      "\n",
      "Notes:\n",
      "[1] Standard Errors assume that the covariance matrix of the errors is correctly specified.\n"
     ]
    }
   ],
   "source": [
    "# Testando com normalização\n",
    "from sklearn.preprocessing import StandardScaler\n",
    "scaler = StandardScaler()\n",
    "normalizado_X = scaler.fit_transform(X)\n",
    "normalizado_X = pd.DataFrame(normalizado_X, columns=X.columns)\n",
    "normalizado_X['intercept'] = 1\n",
    "\n",
    "modelo_norm = sm.OLS(y, normalizado_X)\n",
    "res = modelo_norm.fit()\n",
    "print(res.summary())"
   ]
  },
  {
   "cell_type": "code",
   "execution_count": 24,
   "metadata": {},
   "outputs": [],
   "source": [
    "from sklearn.pipeline import make_pipeline\n",
    "from sklearn.preprocessing import StandardScaler\n",
    "model = make_pipeline(StandardScaler(with_mean=False), LinearRegression())"
   ]
  },
  {
   "cell_type": "markdown",
   "metadata": {},
   "source": [
    "### 5.0.5 - Feature selection"
   ]
  },
  {
   "cell_type": "markdown",
   "metadata": {},
   "source": [
    "### Passo 5.1 — Criação e avaliação de modelos: linha base"
   ]
  },
  {
   "cell_type": "markdown",
   "metadata": {},
   "source": [
    "### Passo 5.2 — Criação e avaliação de modelos: dados padronizados"
   ]
  },
  {
   "cell_type": "markdown",
   "metadata": {},
   "source": [
    "### Passo 5.3 — Ajuste dos modelos"
   ]
  },
  {
   "cell_type": "markdown",
   "metadata": {},
   "source": [
    "#### Passo 5.3.1 — Ajuste do KNN"
   ]
  },
  {
   "cell_type": "markdown",
   "metadata": {},
   "source": [
    "#### Passo 5.3.2 — Ajuste do SVM"
   ]
  },
  {
   "cell_type": "markdown",
   "metadata": {},
   "source": [
    "#### Passo 5.3.3 — Ajuste do RFC"
   ]
  },
  {
   "cell_type": "markdown",
   "metadata": {},
   "source": [
    "#### Passo 5.3.4 — Ajuste do GBC"
   ]
  },
  {
   "cell_type": "markdown",
   "metadata": {},
   "source": [
    "#### Passo 5.3.5 — Ajuste do LGBM"
   ]
  },
  {
   "cell_type": "markdown",
   "metadata": {},
   "source": [
    "## Passo 6 — Finalização do Modelo"
   ]
  }
 ],
 "metadata": {
  "interpreter": {
   "hash": "5768b446dddade2cb79ed0447ec549b2d93198858daeef376aa9ae96b41a1e93"
  },
  "kernelspec": {
   "display_name": "Python 3.9.7 64-bit (windows store)",
   "language": "python",
   "name": "python3"
  },
  "language_info": {
   "codemirror_mode": {
    "name": "ipython",
    "version": 3
   },
   "file_extension": ".py",
   "mimetype": "text/x-python",
   "name": "python",
   "nbconvert_exporter": "python",
   "pygments_lexer": "ipython3",
   "version": "3.9.7"
  },
  "orig_nbformat": 4
 },
 "nbformat": 4,
 "nbformat_minor": 2
}
